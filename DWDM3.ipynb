{
  "nbformat": 4,
  "nbformat_minor": 0,
  "metadata": {
    "colab": {
      "provenance": [],
      "toc_visible": true,
      "authorship_tag": "ABX9TyN72hGelRooCQSPAacZg034",
      "include_colab_link": true
    },
    "kernelspec": {
      "name": "python3",
      "display_name": "Python 3"
    },
    "language_info": {
      "name": "python"
    }
  },
  "cells": [
    {
      "cell_type": "markdown",
      "metadata": {
        "id": "view-in-github",
        "colab_type": "text"
      },
      "source": [
        "<a href=\"https://colab.research.google.com/github/JayaRam2884/22MH1A4216/blob/main/DWDM3.ipynb\" target=\"_parent\"><img src=\"https://colab.research.google.com/assets/colab-badge.svg\" alt=\"Open In Colab\"/></a>"
      ]
    },
    {
      "cell_type": "code",
      "execution_count": 5,
      "metadata": {
        "colab": {
          "base_uri": "https://localhost:8080/"
        },
        "id": "dP46i7oq0mqH",
        "outputId": "b10c0297-3667-4f04-cdba-5487c763d5ef"
      },
      "outputs": [
        {
          "output_type": "stream",
          "name": "stdout",
          "text": [
            "Pearson's Correlation Coefficient: 0.9999999999999998\n"
          ]
        }
      ],
      "source": [
        "import numpy as np\n",
        "def pearson_correlation(x,y):\n",
        "  mean_x=np.mean(x)\n",
        "  mean_y=np.mean(y)\n",
        "\n",
        "  covariance = np.sum((x - mean_x)* (y-mean_y))\n",
        "  std_dev_x=np.sqrt(np.sum((x-mean_x)**2))\n",
        "  std_dev_y=np.sqrt(np.sum((y-mean_y)**2))\n",
        "\n",
        "  correlation=covariance/(std_dev_x*std_dev_y)\n",
        "  return correlation\n",
        "\n",
        "x=np.array([1,2,3,4,5])\n",
        "y=np.array([2,3,4,5,6])\n",
        "print(\"Pearson's Correlation Coefficient:\",pearson_correlation(x,y))"
      ]
    },
    {
      "cell_type": "code",
      "source": [
        " from sklearn.metrics.pairwise import cosine_similarity\n",
        "vector1=np.array([1,2,3])\n",
        "vector2=np.array([4,5,6])\n",
        "cosine_sim=cosine_similarity(vector1.reshape(1,-1),vector2.reshape(1,-1))\n",
        "print(\"Cosine Similarity:\",cosine_sim[0][0])"
      ],
      "metadata": {
        "colab": {
          "base_uri": "https://localhost:8080/"
        },
        "id": "pWW1b68G7js4",
        "outputId": "399e3307-6498-4e97-e304-d34a485d4efa"
      },
      "execution_count": 6,
      "outputs": [
        {
          "output_type": "stream",
          "name": "stdout",
          "text": [
            "Cosine Similarity: 0.9746318461970762\n"
          ]
        }
      ]
    },
    {
      "cell_type": "code",
      "source": [
        " def jaccard_similarity(set1,set2):\n",
        "  intersection=len(set1>intersection(set2))\n",
        "  union=len(set1.union(set2))\n",
        "  return intersection/union\n",
        "\n",
        "  set1=set([1,2,3])\n",
        "  set2=set([2,3,4])\n",
        "  print(\"Jaccard similarity:\",jaccard_similarity(set1,set2))"
      ],
      "metadata": {
        "id": "FeXBBesc7sTG"
      },
      "execution_count": 11,
      "outputs": []
    },
    {
      "cell_type": "code",
      "source": [
        "def euclidean_distance(x,y):\n",
        "  return np.sqrt(np.sum((x-y)**2))\n",
        "\n",
        "point1=np.array([1,2,3])\n",
        "\n",
        "point2=np.array([4,5,6])\n",
        "print(\"Euclidean distance:\",euclidean_distance(point1,point2))"
      ],
      "metadata": {
        "colab": {
          "base_uri": "https://localhost:8080/"
        },
        "id": "2BkWNLVh73jW",
        "outputId": "70903656-5de5-4abd-c964-4d519a86bd4a"
      },
      "execution_count": 9,
      "outputs": [
        {
          "output_type": "stream",
          "name": "stdout",
          "text": [
            "Euclidean distance: 5.196152422706632\n"
          ]
        }
      ]
    },
    {
      "cell_type": "code",
      "source": [
        "def manhattan_distance(x,y):\n",
        "  return np.sum(np.abs(x-y))\n",
        "\n",
        "\n",
        "point1=np.array([1,2,3])\n",
        "point2=np.array([4,5,6])\n",
        "print(\"Manhattan Distance:\",manhattan_distance(point1,point2))"
      ],
      "metadata": {
        "colab": {
          "base_uri": "https://localhost:8080/"
        },
        "id": "ZfvFI0su76Ff",
        "outputId": "08c49803-4490-43f1-cda6-f56aba178952"
      },
      "execution_count": 10,
      "outputs": [
        {
          "output_type": "stream",
          "name": "stdout",
          "text": [
            "Manhattan Distance: 9\n"
          ]
        }
      ]
    }
  ]
}