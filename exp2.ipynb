{
  "nbformat": 4,
  "nbformat_minor": 0,
  "metadata": {
    "colab": {
      "provenance": [],
      "authorship_tag": "ABX9TyMJqQbXm/kgQ85QaCZBOe2+",
      "include_colab_link": true
    },
    "kernelspec": {
      "name": "python3",
      "display_name": "Python 3"
    },
    "language_info": {
      "name": "python"
    }
  },
  "cells": [
    {
      "cell_type": "markdown",
      "metadata": {
        "id": "view-in-github",
        "colab_type": "text"
      },
      "source": [
        "<a href=\"https://colab.research.google.com/github/JayaRam2884/22MH1A4216/blob/main/exp2.ipynb\" target=\"_parent\"><img src=\"https://colab.research.google.com/assets/colab-badge.svg\" alt=\"Open In Colab\"/></a>"
      ]
    },
    {
      "cell_type": "code",
      "execution_count": 12,
      "metadata": {
        "colab": {
          "base_uri": "https://localhost:8080/"
        },
        "id": "oHCIoArRxh4y",
        "outputId": "6d9c1542-f082-4ea7-c82e-ae343968f0e3"
      },
      "outputs": [
        {
          "output_type": "stream",
          "name": "stdout",
          "text": [
            "Original data:\n",
            "   category  feature1  feature2  target\n",
            "0         C        63  6.334038       0\n",
            "1         D        18  8.714606       1\n",
            "2         A        90  8.036721       0\n",
            "3         C        44  1.865701       1\n",
            "4         C        34  8.925590       0\n",
            "..      ...       ...       ...     ...\n",
            "95        B        28  1.608081       0\n",
            "96        B        66  5.487338       1\n",
            "97        D        42  6.918952       0\n",
            "98        B        45  6.519613       0\n",
            "99        A        62  2.242693       1\n",
            "\n",
            "[100 rows x 4 columns]\n",
            "\n",
            " One-hot encoded data:\n",
            "    A  B  C  D\n",
            "0   0  0  1  0\n",
            "1   0  0  0  1\n",
            "2   1  0  0  0\n",
            "3   0  0  1  0\n",
            "4   0  0  1  0\n",
            ".. .. .. .. ..\n",
            "95  0  1  0  0\n",
            "96  0  1  0  0\n",
            "97  0  0  0  1\n",
            "98  0  1  0  0\n",
            "99  1  0  0  0\n",
            "\n",
            "[100 rows x 4 columns]\n",
            "\n",
            "Label encoded data:\n",
            "[2 3 0 2 2 3 0 0 2 1 2 2 2 2 3 0 3 3 3 2 1 0 1 3 3 1 1 1 3 3 0 0 3 1 1 0 3\n",
            " 0 0 2 2 2 1 3 3 3 3 2 1 1 2 1 2 3 2 3 3 0 2 0 2 2 0 0 2 1 3 0 3 1 1 1 0 1\n",
            " 0 1 3 3 2 3 2 3 0 3 2 2 1 0 3 1 3 3 1 1 1 1 1 3 1 0]\n"
          ]
        }
      ],
      "source": [
        "import pandas as pd\n",
        "from sklearn.preprocessing import OneHotEncoder,LabelEncoder\n",
        "\n",
        "\n",
        "df=pd.read_csv('/content/data.csv')\n",
        "one_hot_encoded=pd.get_dummies(df['category'])\n",
        "label_encoder=LabelEncoder()\n",
        "label_encoded=label_encoder.fit_transform(df['category'])\n",
        "print(\"Original data:\")\n",
        "print(df)\n",
        "print(\"\\n One-hot encoded data:\")\n",
        "print(one_hot_encoded)\n",
        "print(\"\\nLabel encoded data:\")\n",
        "print(label_encoded)"
      ]
    }
  ]
}